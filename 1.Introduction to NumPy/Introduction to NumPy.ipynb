{
 "cells": [
  {
   "cell_type": "markdown",
   "id": "e9b49137-e3a0-4b42-a62e-f1f1c1455c32",
   "metadata": {},
   "source": [
    "### NumPy vs Python\n",
    "NumPy is a Python library and is written partially in Python, but most of the parts that require fast computation are written in C or C++.\n",
    "\n",
    "### NumPy list vs Python list\n",
    "The main difference is that NumPy arrays are much faster and have strict requirements on the homogeneity of the objects. For example, a NumPy array of strings can only contain strings and no other data types, but a Python list can contain a mixture of strings, numbers, booleans and other objects.\n",
    "\n",
    "NumPy arrays have a fixed size at creation, unlike Python lists (which can grow dynamically). Changing the size of an ndarray will create a new array and delete the original. The elements in a NumPy array are all required to be of the same data type, and thus will be the same size in memory.\n",
    "\n",
    "There are two main reasons why we would use NumPy array instead of lists in Python. These reasons are: Less memory usage: The Python NumPy array consumes less memory than lists. Less execution time: The NumPy array is pretty fast in terms of execution, as compared to lists in Python."
   ]
  },
  {
   "cell_type": "code",
   "execution_count": 7,
   "id": "879ab705-50a5-4683-8ef1-eb8668e50826",
   "metadata": {},
   "outputs": [],
   "source": [
    "import numpy as np\n",
    "import sys\n",
    "import time"
   ]
  },
  {
   "cell_type": "code",
   "execution_count": 8,
   "id": "0ce2bcaa-f69a-4b09-8449-420eb39579fd",
   "metadata": {},
   "outputs": [],
   "source": [
    " NumPy = np.array([1,2,3])"
   ]
  },
  {
   "cell_type": "code",
   "execution_count": 9,
   "id": "b9faa30b-868c-485d-93ac-ebf7d4c168d1",
   "metadata": {},
   "outputs": [
    {
     "data": {
      "text/plain": [
       "array([1, 2, 3])"
      ]
     },
     "execution_count": 9,
     "metadata": {},
     "output_type": "execute_result"
    }
   ],
   "source": [
    "NumPy"
   ]
  },
  {
   "cell_type": "code",
   "execution_count": 10,
   "id": "6bd61759-d93f-4e43-9b77-5165cee9b17a",
   "metadata": {},
   "outputs": [
    {
     "data": {
      "text/plain": [
       "1"
      ]
     },
     "execution_count": 10,
     "metadata": {},
     "output_type": "execute_result"
    }
   ],
   "source": [
    "NumPy[0]"
   ]
  },
  {
   "cell_type": "code",
   "execution_count": 11,
   "id": "79af31f9-a54d-48e1-acad-ff86a7de1ea6",
   "metadata": {},
   "outputs": [
    {
     "data": {
      "text/plain": [
       "2"
      ]
     },
     "execution_count": 11,
     "metadata": {},
     "output_type": "execute_result"
    }
   ],
   "source": [
    "NumPy[1]"
   ]
  },
  {
   "cell_type": "markdown",
   "id": "291e1568-1f94-42ea-ad25-38bc8cab70f1",
   "metadata": {},
   "source": [
    "I already have a Python list, why do I need this NumPy Array?\n",
    "Well there are 3 main beenfits of using NumPy Array:\n",
    "* Less Memory\n",
    "* Fast\n",
    "* Convinient\n",
    "\n",
    "We'll prove them in this lecture"
   ]
  },
  {
   "cell_type": "markdown",
   "id": "20761fa1-096d-4e8a-b35b-5d0b7cd3c33d",
   "metadata": {},
   "source": [
    "## Why Numpy Array uses Less memory than Python lis?\n",
    "## Proof:"
   ]
  },
  {
   "cell_type": "code",
   "execution_count": 30,
   "id": "5892232c-ff04-40c5-9584-b73cc80b7fc2",
   "metadata": {},
   "outputs": [
    {
     "name": "stdout",
     "output_type": "stream",
     "text": [
      "28000\n",
      "4000\n"
     ]
    }
   ],
   "source": [
    "# So we have a Python list here and we need to get the size of 1 element, it doesn't matter what you write in the brackets, could be 1 or 5 as\n",
    "# you're reffering to any element between 1,1000\n",
    "# So basically size of 1 element multiplied by the length of the list \n",
    "python_list = range(1000)\n",
    "print(sys.getsizeof(1)*len(python_list))\n",
    "\n",
    "# Now we are going to create a NumPy array\n",
    "# arange is similar to range \n",
    "# array.itemsize is size of one element vs array of size is equal to toal length of an array\n",
    "numpy_array = np.arange(1000)\n",
    "print(numpy_array.size*numpy_array.itemsize)\n",
    "\n",
    "# Python list is taking 28,000 bytes vs NumPy is taking only 4000 bytes\n",
    "# the size of one python object is like 28 here vs size on one NumPy array abject here in this case it is only 4 bytes\n"
   ]
  },
  {
   "cell_type": "markdown",
   "id": "b66a25e6-083c-4146-a1b8-8c8f65285779",
   "metadata": {},
   "source": [
    "## Why numpy array is fast\n",
    "## Proof:"
   ]
  },
  {
   "cell_type": "code",
   "execution_count": 24,
   "id": "76ced4c3-db95-4594-aa86-b2f73c485520",
   "metadata": {},
   "outputs": [
    {
     "name": "stdout",
     "output_type": "stream",
     "text": [
      "Python list took this much time 150.1598358154297\n",
      "NumPy array took this much time 1.9917488098144531\n"
     ]
    }
   ],
   "source": [
    "# So I'm making Python lists and NumPy array's here \n",
    "size_of_list = 1000000\n",
    "\n",
    "python_list_1 = range(size_of_list)\n",
    "python_list_2 = range(size_of_list)\n",
    "\n",
    "numpy_array_1 = np.arange(size_of_list)\n",
    "numpy_array_2 = np.arange(size_of_list)\n",
    "\n",
    "# Now I want to measure the time between Python list processing and NumPy array processing\n",
    "start = time.time()\n",
    "# So the opreation I'm doing here is adding the two Python lists and adding it to a new variable called result\n",
    "# Zip will basically take first element from python_list_1 and first element from python_list_2 and add them together and put it in the result.\n",
    "# So it'll add indivudal elements from these two lists and put it in a result\n",
    "for x,y in zip(python_list_1, python_list_2):\n",
    "    result = x+y\n",
    "#---------------------------Python List processing time--------------------------------------\n",
    "#We are multiplying by 1000 by default it's in second and I want to print milliseconds\n",
    "print('Python list took this much time', (time.time()-start)*1000)\n",
    "#---------------------------NumPy Array Processing time--------------------------------------\n",
    "# NumPy is convenient so if you want to add two array you can just add it directly\n",
    "start = time.time()\n",
    "result = numpy_array_1 + numpy_array_2\n",
    "print(\"NumPy array took this much time\", (time.time()-start)*1000)\n",
    "\n",
    "#  this code block {time.time()-start)*1000} is just way to measure time\n",
    "\n",
    "# Now you can see Python list took about 150 milliseconds vs NumPy array to about  1.9 milliseconds\n",
    "# This is CRAZY FAST!\n",
    "# So you can see when you're processing millions and billions of numbers, it just makes sense of NumPy array \n",
    "# It is also conveneint becuase you can see that if you want to add to lists together you, can just di it like Maths!"
   ]
  },
  {
   "cell_type": "markdown",
   "id": "44062307-5ffd-459e-a110-1104b089b597",
   "metadata": {},
   "source": [
    "## Why NumPy is conveneint?"
   ]
  },
  {
   "cell_type": "code",
   "execution_count": 31,
   "id": "88c01301-e2ff-47f5-b4e9-3879b29cdc87",
   "metadata": {},
   "outputs": [],
   "source": [
    "numpy_array_1  = np.array([1,2,3])\n",
    "numpy_array_2  = np.array([4,5,6])"
   ]
  },
  {
   "cell_type": "code",
   "execution_count": 32,
   "id": "c0000fe6-e5f9-4c8e-b36c-7ae7438f27af",
   "metadata": {},
   "outputs": [
    {
     "data": {
      "text/plain": [
       "array([5, 7, 9])"
      ]
     },
     "execution_count": 32,
     "metadata": {},
     "output_type": "execute_result"
    }
   ],
   "source": [
    "# Addition\n",
    "numpy_array_1 + numpy_array_2"
   ]
  },
  {
   "cell_type": "code",
   "execution_count": 33,
   "id": "791a1c95-eae0-4bda-880b-cd467e106cf9",
   "metadata": {},
   "outputs": [
    {
     "data": {
      "text/plain": [
       "array([3, 3, 3])"
      ]
     },
     "execution_count": 33,
     "metadata": {},
     "output_type": "execute_result"
    }
   ],
   "source": [
    "# Subtraction\n",
    "numpy_array_2-numpy_array_1"
   ]
  },
  {
   "cell_type": "code",
   "execution_count": 34,
   "id": "72bb1a84-19f5-4ce8-9254-ade58078f641",
   "metadata": {},
   "outputs": [
    {
     "data": {
      "text/plain": [
       "array([ 4, 10, 18])"
      ]
     },
     "execution_count": 34,
     "metadata": {},
     "output_type": "execute_result"
    }
   ],
   "source": [
    "# Multiplication\n",
    "numpy_array_1*numpy_array_2"
   ]
  },
  {
   "cell_type": "code",
   "execution_count": 35,
   "id": "8c2ab070-ee6c-4f8d-91cf-59840c56d2f1",
   "metadata": {},
   "outputs": [
    {
     "data": {
      "text/plain": [
       "array([0.25, 0.4 , 0.5 ])"
      ]
     },
     "execution_count": 35,
     "metadata": {},
     "output_type": "execute_result"
    }
   ],
   "source": [
    "# Division\n",
    "numpy_array_1/numpy_array_2"
   ]
  }
 ],
 "metadata": {
  "kernelspec": {
   "display_name": "Python 3 (ipykernel)",
   "language": "python",
   "name": "python3"
  },
  "language_info": {
   "codemirror_mode": {
    "name": "ipython",
    "version": 3
   },
   "file_extension": ".py",
   "mimetype": "text/x-python",
   "name": "python",
   "nbconvert_exporter": "python",
   "pygments_lexer": "ipython3",
   "version": "3.9.13"
  }
 },
 "nbformat": 4,
 "nbformat_minor": 5
}
